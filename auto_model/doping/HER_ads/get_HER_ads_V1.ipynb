{
 "cells": [
  {
   "cell_type": "code",
   "execution_count": 21,
   "id": "da988caa",
   "metadata": {},
   "outputs": [],
   "source": [
    "#V1版本的不足之处;后续添加个检查单原子负载前后基底变化，从而智能化选择更加合适的吸附位\n",
    "import numpy as np\n",
    "import pandas as pd\n",
    "import random\n",
    "import os\n",
    "from shutil import copy\n",
    "from math import cos, sin, atan2, sqrt, pi ,radians, degrees"
   ]
  },
  {
   "cell_type": "code",
   "execution_count": 22,
   "id": "dc1a0583",
   "metadata": {},
   "outputs": [],
   "source": [
    "#类似20220822下选择的100个DMAZ这种文件夹底下需要有CONTCAR_*的文件"
   ]
  },
  {
   "cell_type": "code",
   "execution_count": 23,
   "id": "efdbc764",
   "metadata": {},
   "outputs": [],
   "source": [
    "# 打开新文件\n",
    "def open_poscar(name):\n",
    "    f = open(name,'r+')\n",
    "    flist= f.readlines()\n",
    "    f.close()\n",
    "    return flist"
   ]
  },
  {
   "cell_type": "code",
   "execution_count": 24,
   "id": "96f74645",
   "metadata": {},
   "outputs": [],
   "source": [
    "# 组成新文件数据\n",
    "def get_Hads_poscar_data(flist, start_num, sample_type,  DMAZ_name):\n",
    "    if sample_type == 'DMAZ':\n",
    "        support_name = DMAZ_name.split('_')[-1]\n",
    "        line1 = [str(x) for x in flist[0].split()]\n",
    "        line2 = [str(x) for x in flist[1].split()]\n",
    "        line3 = [str(x) for x in flist[2].split()]\n",
    "        line4 = [str(x) for x in flist[3].split()]\n",
    "        line5 = [str(x) for x in flist[4].split()]\n",
    "        line6 = [str(x) for x in flist[5].split()] + ['H'] # 原子序号\n",
    "        line7 = [str(x) for x in flist[6].split()] + ['1'] #原子个数\n",
    "        line8 = [str(x) for x in flist[7].split()]\n",
    "        num_atoms = sum([int(x) for x in flist[6].split()])\n",
    "        if  str(line8).strip().upper()[2] == 'D':\n",
    "            x_cartesian = []\n",
    "            y_cartesian = []\n",
    "            z_cartesian = []\n",
    "            for i in range(start_num, num_atoms + start_num): \n",
    "    #         x_cartesian.append(float(line[i].split()[0]) * a1 + float(line[i].split()[1]) * a2 + float(line[i].split()[2]) * a3)\n",
    "    #         y_cartesian.append(float(line[i].split()[0]) * b1 + float(line[i].split()[1]) * b2 + float(line[i].split()[2]) * b3)\n",
    "    #         z_cartesian.append(float(line[i].split()[0]) * z1 + float(line[i].split()[1]) * z2 + float(line[i].split()[2]) * z3)\n",
    "                x_cartesian.append(float(flist[i].split()[0]))\n",
    "                y_cartesian.append(float(flist[i].split()[1]))\n",
    "                z_cartesian.append(float(flist[i].split()[2]))\n",
    "        cartesian_xyz_bare = list(zip(x_cartesian, y_cartesian, z_cartesian))\n",
    "        atom_name_list = [str(x) for x in flist[5].split()]\n",
    "        atom_num_list = [str(x) for x in flist[6].split()]\n",
    "        c = [float(x) for x in flist[4].split()][-1]\n",
    "        cartesian_xyz_H = get_cartesian_xyz(cartesian_xyz_bare, c, support_name, atom_name_list, atom_num_list)\n",
    "        cartesian_xyz = cartesian_xyz_bare + cartesian_xyz_H\n",
    "        new_list = []\n",
    "        new_list.append(line1)\n",
    "        new_list.append(line2)\n",
    "        new_list.append(line3)\n",
    "        new_list.append(line4)\n",
    "        new_list.append(line5)\n",
    "        new_list.append(line6)\n",
    "        new_list.append(line7)\n",
    "        new_list.append(line8)\n",
    "        for i in range(len(cartesian_xyz)):\n",
    "            new_list.append(cartesian_xyz[i])\n",
    "    return new_list"
   ]
  },
  {
   "cell_type": "code",
   "execution_count": 25,
   "id": "643ba650",
   "metadata": {},
   "outputs": [],
   "source": [
    "def get_cartesian_xyz(cartesian_xyz_bare, c, support_name, atom_name_list, atom_num_list):\n",
    "    atom_name_list = [str(x) for x in flist[5].split()]\n",
    "    atom_num_list = [int(x) for x in flist[6].split()]\n",
    "    MAZ_name = atom_name_list[:-1]\n",
    "    if support_name in MAZ_name:\n",
    "        support_num_index = sum(atom_num_list) -1\n",
    "    else:\n",
    "        support_index = atom_name_list.index(support_name)\n",
    "        count = 0\n",
    "        support_num_index = 0\n",
    "        for i in range(len(atom_name_list)):\n",
    "            if count < support_index:\n",
    "                support_num_index += atom_num_list[i]\n",
    "                count +=1\n",
    "    distance_SH = get_radii_sum(support_name, 'H')\n",
    "    cartesian_xyz_H = [(cartesian_xyz_bare[support_num_index][0], \n",
    "                        cartesian_xyz_bare[support_num_index][1],\n",
    "                        cartesian_xyz_bare[support_num_index][2]+distance_SH/c)]\n",
    "    return cartesian_xyz_H"
   ]
  },
  {
   "cell_type": "code",
   "execution_count": 26,
   "id": "ea27f4f9",
   "metadata": {},
   "outputs": [],
   "source": [
    "# 获取原子半径和\n",
    "def get_radii_sum(atom1, atom2):\n",
    "    # 获取涉及到的原子半径\n",
    "    data = pd.read_excel('共价半径.xlsx', header=None)\n",
    "    # 生成原子半径字典\n",
    "    data_radius = dict_radius_production(data)\n",
    "    radii_sum = data_radius[atom1] + data_radius[atom2]\n",
    "    return radii_sum"
   ]
  },
  {
   "cell_type": "code",
   "execution_count": 27,
   "id": "68a0c335",
   "metadata": {},
   "outputs": [],
   "source": [
    "# 生成共价半径字典\n",
    "def dict_radius_production(data):\n",
    "    dict_radius = {}\n",
    "    for i in range(len(data)):\n",
    "        dict_radius.update({data.iloc[i,0]:data.iloc[i,1]})\n",
    "    return dict_radius"
   ]
  },
  {
   "cell_type": "code",
   "execution_count": 28,
   "id": "285910b6",
   "metadata": {},
   "outputs": [],
   "source": [
    "# 写入新文件\n",
    "def write_newposcar(path, element_name, new_poscar):\n",
    "    new_poscar_name = path + '/POSCAR_' + ''.join(element_name)\n",
    "    f2=open(new_poscar_name,\"w\")\n",
    "    for i in range(len(new_poscar)):\n",
    "        s1 = str(new_poscar[i]).replace('[','').replace(']','').replace('(','').replace(')','')\n",
    "        s2 = s1.replace(\"'\",'').replace(',','') + '\\n' \n",
    "        f2.write(s2)\n",
    "    f2.close()"
   ]
  },
  {
   "cell_type": "code",
   "execution_count": 29,
   "id": "160b117f",
   "metadata": {},
   "outputs": [],
   "source": [
    "# 生成DMAZ的HER结构\n",
    "Num_select = 100  #选择个数\n",
    "name = '20220822' #命名，以时间和英文为命名方式\n",
    "name_total = name + '下选择的' + str(Num_select) + '个DMAZ'\n",
    "for i in os.listdir(name_total):\n",
    "    os.makedirs(name_total+'_HER/'+i)\n",
    "    from_path = name_total+ '/' + i + '/CONTCAR_' + i\n",
    "    to_path = name_total+'_HER/'+ i + '/CONTCAR_' + i\n",
    "    copy(from_path, to_path)\n",
    "start_num = 9\n",
    "for i in os.listdir(name_total+'_HER'):\n",
    "    path = name_total+'_HER/'+ i\n",
    "    flist = open_poscar(name_total+'_HER/'+ i + '/CONTCAR_' + i)\n",
    "    new_list = get_Hads_poscar_data(flist, start_num -1 , 'DMAZ', i)\n",
    "    write_newposcar(path, i, new_list) \n",
    "#     to_path_II = name+'_HER/'+ '/CONTCAR_' + i + '_' + ads_site\n",
    "#     to_path_II2 = ''.join(to_path_II)\n",
    "#     copy(from_path2, to_path_II2)"
   ]
  },
  {
   "cell_type": "code",
   "execution_count": 177,
   "id": "63de59f7",
   "metadata": {},
   "outputs": [],
   "source": [
    "# 100select中Zr_C_N_W Zr_C_N_Co Pt_Si_As_Mn Mn_Sn_N_Hf Ir_Sn_As_W Ir_C_N_Y Fe_C_P_Fe这些结构有问题"
   ]
  }
 ],
 "metadata": {
  "kernelspec": {
   "display_name": "Python 3 (ipykernel)",
   "language": "python",
   "name": "python3"
  },
  "language_info": {
   "codemirror_mode": {
    "name": "ipython",
    "version": 3
   },
   "file_extension": ".py",
   "mimetype": "text/x-python",
   "name": "python",
   "nbconvert_exporter": "python",
   "pygments_lexer": "ipython3",
   "version": "3.8.8"
  }
 },
 "nbformat": 4,
 "nbformat_minor": 5
}
