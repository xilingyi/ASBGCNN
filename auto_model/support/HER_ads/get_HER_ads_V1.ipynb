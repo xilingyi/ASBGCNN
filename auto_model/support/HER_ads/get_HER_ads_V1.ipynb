{
 "cells": [
  {
   "cell_type": "code",
   "execution_count": 1,
   "id": "da988caa",
   "metadata": {},
   "outputs": [],
   "source": [
    "#V1版本的不足之处;后续添加个检查单原子负载前后基底变化，从而智能化选择更加合适的吸附位\n",
    "import numpy as np\n",
    "import pandas as pd\n",
    "import random\n",
    "import os\n",
    "from shutil import copy\n",
    "from math import cos, sin, atan2, sqrt, pi ,radians, degrees"
   ]
  },
  {
   "cell_type": "code",
   "execution_count": 2,
   "id": "35b4cad0",
   "metadata": {},
   "outputs": [],
   "source": [
    "#在shell里面的SMAZ目录下使用两条命令生成reached_required_accuracy.dat和total_energy.dat\n",
    "#for i in *;do echo $i fcc-$(grep \"reached required\" $i/fcc/OUTCAR|cut -b 2-8) hcp-$(grep \"reached required\" $i/hcp/OUTCAR|cut -b 2-8) top-$(grep \"reached required\" $i/top/OUTCAR|cut -b 2-8) >> ../reached_required_accuracy.dat;done \n",
    "#for i in *;do echo $i fcc-$(grep \"energy  without entropy=\" $i/fcc/OUTCAR|tail -1|awk '{print $7}') hcp-$(grep \"energy  without entropy=\" $i/hcp/OUTCAR|tail -1|awk '{print $7}') top-$(grep \"energy  without entropy=\" $i/top/OUTCAR|tail -1|awk '{print $7}') >> ../total_energy.dat;done "
   ]
  },
  {
   "cell_type": "code",
   "execution_count": 3,
   "id": "79ab8080",
   "metadata": {},
   "outputs": [],
   "source": [
    "#把SMAZ目录复制到别处，保留CONTCAR和OUTCAR留作下步脚本处理\n",
    "#参考命令： \n",
    "#  mkdir ../100select_redu && cp -r * ../100select_redu && cd ../100select_redu\n",
    "#  find . |grep -vE 'CONTCAR'|xargs rm -f"
   ]
  },
  {
   "cell_type": "code",
   "execution_count": 4,
   "id": "efdbc764",
   "metadata": {},
   "outputs": [],
   "source": [
    "# 打开新文件\n",
    "def open_poscar(name):\n",
    "    f = open(name,'r+')\n",
    "    flist= f.readlines()\n",
    "    f.close()\n",
    "    return flist"
   ]
  },
  {
   "cell_type": "code",
   "execution_count": 5,
   "id": "96f74645",
   "metadata": {},
   "outputs": [],
   "source": [
    "# 组成新文件数据\n",
    "def get_Hads_poscar_data(flist, start_num, sample_type,  SMAZ_name):\n",
    "    if sample_type == 'SMAZ':\n",
    "        support_name = SMAZ_name.split('_')[-1]\n",
    "        line1 = [str(x) for x in flist[0].split()]\n",
    "        line2 = [str(x) for x in flist[1].split()]\n",
    "        line3 = [str(x) for x in flist[2].split()]\n",
    "        line4 = [str(x) for x in flist[3].split()]\n",
    "        line5 = [str(x) for x in flist[4].split()]\n",
    "        line6 = [str(x) for x in flist[5].split()] + ['H'] # 原子序号\n",
    "        line7 = [str(x) for x in flist[6].split()] + ['1'] #原子个数\n",
    "        line8 = [str(x) for x in flist[7].split()]\n",
    "        num_atoms = sum([int(x) for x in flist[6].split()])\n",
    "        if  str(line8).strip().upper()[2] == 'D':\n",
    "            x_cartesian = []\n",
    "            y_cartesian = []\n",
    "            z_cartesian = []\n",
    "            for i in range(start_num, num_atoms + start_num): \n",
    "    #         x_cartesian.append(float(line[i].split()[0]) * a1 + float(line[i].split()[1]) * a2 + float(line[i].split()[2]) * a3)\n",
    "    #         y_cartesian.append(float(line[i].split()[0]) * b1 + float(line[i].split()[1]) * b2 + float(line[i].split()[2]) * b3)\n",
    "    #         z_cartesian.append(float(line[i].split()[0]) * z1 + float(line[i].split()[1]) * z2 + float(line[i].split()[2]) * z3)\n",
    "                x_cartesian.append(float(flist[i].split()[0]))\n",
    "                y_cartesian.append(float(flist[i].split()[1]))\n",
    "                z_cartesian.append(float(flist[i].split()[2]))\n",
    "        cartesian_xyz_bare = list(zip(x_cartesian, y_cartesian, z_cartesian))\n",
    "        atom_name_list = [str(x) for x in flist[5].split()]\n",
    "        atom_num_list = [str(x) for x in flist[6].split()]\n",
    "        c = [float(x) for x in flist[4].split()][-1]\n",
    "        cartesian_xyz_H = get_cartesian_xyz(cartesian_xyz_bare, c, support_name, atom_name_list, atom_num_list)\n",
    "        cartesian_xyz = cartesian_xyz_bare + cartesian_xyz_H\n",
    "        new_list = []\n",
    "        new_list.append(line1)\n",
    "        new_list.append(line2)\n",
    "        new_list.append(line3)\n",
    "        new_list.append(line4)\n",
    "        new_list.append(line5)\n",
    "        new_list.append(line6)\n",
    "        new_list.append(line7)\n",
    "        new_list.append(line8)\n",
    "        for i in range(len(cartesian_xyz)):\n",
    "            new_list.append(cartesian_xyz[i])\n",
    "    return new_list"
   ]
  },
  {
   "cell_type": "code",
   "execution_count": 6,
   "id": "643ba650",
   "metadata": {},
   "outputs": [],
   "source": [
    "def get_cartesian_xyz(cartesian_xyz_bare, c, support_name, atom_name_list, atom_num_list):\n",
    "    atom_name_list = [str(x) for x in flist[5].split()]\n",
    "    atom_num_list = [int(x) for x in flist[6].split()]\n",
    "    MAZ_name = atom_name_list[:-1]\n",
    "    if support_name in MAZ_name:\n",
    "        support_num_index = sum(atom_num_list) -1\n",
    "    else:\n",
    "        support_index = atom_name_list.index(support_name)\n",
    "        count = 0\n",
    "        support_num_index = 0\n",
    "        for i in range(len(atom_name_list)):\n",
    "            if count < support_index:\n",
    "                support_num_index += atom_num_list[i]\n",
    "                count +=1\n",
    "    distance_SH = get_radii_sum(support_name, 'H')\n",
    "    cartesian_xyz_H = [(cartesian_xyz_bare[support_num_index][0], \n",
    "                        cartesian_xyz_bare[support_num_index][1],\n",
    "                        cartesian_xyz_bare[support_num_index][2]+distance_SH/c)]\n",
    "    return cartesian_xyz_H"
   ]
  },
  {
   "cell_type": "code",
   "execution_count": 7,
   "id": "ea27f4f9",
   "metadata": {},
   "outputs": [],
   "source": [
    "# 获取原子半径和\n",
    "def get_radii_sum(atom1, atom2):\n",
    "    # 获取涉及到的原子半径\n",
    "    data = pd.read_excel('共价半径.xlsx', header=None)\n",
    "    # 生成原子半径字典\n",
    "    data_radius = dict_radius_production(data)\n",
    "    radii_sum = data_radius[atom1] + data_radius[atom2]\n",
    "    return radii_sum"
   ]
  },
  {
   "cell_type": "code",
   "execution_count": 8,
   "id": "68a0c335",
   "metadata": {},
   "outputs": [],
   "source": [
    "# 生成共价半径字典\n",
    "def dict_radius_production(data):\n",
    "    dict_radius = {}\n",
    "    for i in range(len(data)):\n",
    "        dict_radius.update({data.iloc[i,0]:data.iloc[i,1]})\n",
    "    return dict_radius"
   ]
  },
  {
   "cell_type": "code",
   "execution_count": 9,
   "id": "285910b6",
   "metadata": {},
   "outputs": [],
   "source": [
    "# 写入新文件\n",
    "def write_newposcar(path, element_name, new_poscar):\n",
    "    new_poscar_name = path + '/POSCAR_' + ''.join(element_name)\n",
    "    f2=open(new_poscar_name,\"w\")\n",
    "    for i in range(len(new_poscar)):\n",
    "        s1 = str(new_poscar[i]).replace('[','').replace(']','').replace('(','').replace(')','')\n",
    "        s2 = s1.replace(\"'\",'').replace(',','') + '\\n' \n",
    "        f2.write(s2)\n",
    "    f2.close()"
   ]
  },
  {
   "cell_type": "code",
   "execution_count": 10,
   "id": "197293b9",
   "metadata": {},
   "outputs": [],
   "source": [
    "#读取SMAZ的能量数据\n",
    "data_energy = pd.read_table('total_energy.dat', sep=' ', header = None)\n",
    "data_accuracy = pd.read_table('reached_required_accuracy.dat', sep=' ', header = None)\n",
    "data_energy_new = data_energy.copy()"
   ]
  },
  {
   "cell_type": "code",
   "execution_count": 11,
   "id": "fe0bac5f",
   "metadata": {},
   "outputs": [],
   "source": [
    "# 没收敛的能量被替换为0\n",
    "for i in range(len(data_accuracy)):\n",
    "    if data_accuracy.iloc[i,1][4:] != 'reached':\n",
    "        data_energy_new.iloc[i,1] = data_energy_new.iloc[i,1][0:4] + '0'\n",
    "    if data_accuracy.iloc[i,2][4:] != 'reached':\n",
    "        data_energy_new.iloc[i,2] = data_energy_new.iloc[i,2][0:4] + '0'\n",
    "    if data_accuracy.iloc[i,3][4:] != 'reached':\n",
    "        data_energy_new.iloc[i,3] = data_energy_new.iloc[i,3][0:4] + '0'"
   ]
  },
  {
   "cell_type": "code",
   "execution_count": 12,
   "id": "0a2ec4bd",
   "metadata": {},
   "outputs": [],
   "source": [
    "# 获取最稳定单原子金属负载点 \n",
    "data_ads = pd.DataFrame()\n",
    "data_ads['Sample'] = data_energy.iloc[:,0]\n",
    "list_ads = []\n",
    "for i in range(len(data_accuracy)):\n",
    "    list_row =  [float(data_energy_new.iloc[i,1][4:]), \n",
    "            float(data_energy_new.iloc[i,2][4:]), float(data_energy_new.iloc[i,3][4:])]\n",
    "    min_index = list_row.index(min(list_row))\n",
    "    list_ads.append(data_energy_new.iloc[i,min_index+1][0:3])\n",
    "data_ads['ads_site'] = list_ads "
   ]
  },
  {
   "cell_type": "code",
   "execution_count": 13,
   "id": "160b117f",
   "metadata": {},
   "outputs": [
    {
     "ename": "FileNotFoundError",
     "evalue": "[WinError 3] 系统找不到指定的路径。: '20220822_100_redu'",
     "output_type": "error",
     "traceback": [
      "\u001b[1;31m---------------------------------------------------------------------------\u001b[0m",
      "\u001b[1;31mFileNotFoundError\u001b[0m                         Traceback (most recent call last)",
      "Input \u001b[1;32mIn [13]\u001b[0m, in \u001b[0;36m<cell line: 6>\u001b[1;34m()\u001b[0m\n\u001b[0;32m      4\u001b[0m name_total \u001b[38;5;241m=\u001b[39m name \u001b[38;5;241m+\u001b[39m \u001b[38;5;124m'\u001b[39m\u001b[38;5;124m_\u001b[39m\u001b[38;5;124m'\u001b[39m \u001b[38;5;241m+\u001b[39m \u001b[38;5;28mstr\u001b[39m(Num_select)\n\u001b[0;32m      5\u001b[0m os\u001b[38;5;241m.\u001b[39mmakedirs(name_total\u001b[38;5;241m+\u001b[39m\u001b[38;5;124m'\u001b[39m\u001b[38;5;124m_HER\u001b[39m\u001b[38;5;124m'\u001b[39m)\n\u001b[1;32m----> 6\u001b[0m \u001b[38;5;28;01mfor\u001b[39;00m i \u001b[38;5;129;01min\u001b[39;00m \u001b[43mos\u001b[49m\u001b[38;5;241;43m.\u001b[39;49m\u001b[43mlistdir\u001b[49m\u001b[43m(\u001b[49m\u001b[43mname_total\u001b[49m\u001b[38;5;241;43m+\u001b[39;49m\u001b[38;5;124;43m'\u001b[39;49m\u001b[38;5;124;43m_redu\u001b[39;49m\u001b[38;5;124;43m'\u001b[39;49m\u001b[43m)\u001b[49m:\n\u001b[0;32m      7\u001b[0m     os\u001b[38;5;241m.\u001b[39mmakedirs(name_total\u001b[38;5;241m+\u001b[39m\u001b[38;5;124m'\u001b[39m\u001b[38;5;124m_HER/\u001b[39m\u001b[38;5;124m'\u001b[39m\u001b[38;5;241m+\u001b[39mi)\n\u001b[0;32m      8\u001b[0m     ads_site \u001b[38;5;241m=\u001b[39m data_ads[data_ads[\u001b[38;5;124m'\u001b[39m\u001b[38;5;124mSample\u001b[39m\u001b[38;5;124m'\u001b[39m]\u001b[38;5;241m.\u001b[39misin([i])][\u001b[38;5;124m'\u001b[39m\u001b[38;5;124mads_site\u001b[39m\u001b[38;5;124m'\u001b[39m]\u001b[38;5;241m.\u001b[39mvalues\n",
      "\u001b[1;31mFileNotFoundError\u001b[0m: [WinError 3] 系统找不到指定的路径。: '20220822_100_redu'"
     ]
    }
   ],
   "source": [
    "# 生成SMAZ的HER结构\n",
    "Num_select = 100  #选择个数\n",
    "name = '20220822' #命名，以时间和英文为命名方式\n",
    "name_total = name + '_' + str(Num_select)\n",
    "os.makedirs(name_total+'_HER')\n",
    "for i in os.listdir(name_total+'_redu'):\n",
    "    os.makedirs(name_total+'_HER/'+i)\n",
    "    ads_site = data_ads[data_ads['Sample'].isin([i])]['ads_site'].values\n",
    "    from_path = name_total+ '_redu/' + i + '/' + ads_site + '/CONTCAR'\n",
    "    from_path2 = ''.join(from_path) #array转字符串\n",
    "    to_path = name_total+'_HER/'+ i + '/CONTCAR_' + ads_site\n",
    "    to_path2 = ''.join(to_path) #array转字符串\n",
    "    copy(from_path2, to_path2)\n",
    "#     to_path_II = name+'_HER/'+ '/CONTCAR_' + i + '_' + ads_site\n",
    "#     to_path_II2 = ''.join(to_path_II)\n",
    "#     copy(from_path2, to_path_II2)"
   ]
  },
  {
   "cell_type": "code",
   "execution_count": 177,
   "id": "63de59f7",
   "metadata": {},
   "outputs": [],
   "source": [
    "# 100select中Zr_C_N_W Zr_C_N_Co Pt_Si_As_Mn Mn_Sn_N_Hf Ir_Sn_As_W Ir_C_N_Y Fe_C_P_Fe这些结构有问题"
   ]
  },
  {
   "cell_type": "code",
   "execution_count": 288,
   "id": "2345a10a",
   "metadata": {},
   "outputs": [],
   "source": [
    "start_num = 9\n",
    "for i in os.listdir(name_total+'_HER'):\n",
    "    path = name_total+'_HER/'+ i\n",
    "    ads_site = data_ads[data_ads['Sample'].isin([i])]['ads_site'].values\n",
    "    ads_site2 = ''.join(ads_site)\n",
    "    flist = open_poscar(name_total+'_HER/'+ i + '/CONTCAR_' + ads_site2)\n",
    "    supporting_name = i.split('_')[-1]\n",
    "    new_list = get_Hads_poscar_data(flist, start_num -1 , 'SMAZ', i)\n",
    "    write_newposcar(path, i, new_list) "
   ]
  },
  {
   "cell_type": "code",
   "execution_count": null,
   "id": "3bd67af3",
   "metadata": {},
   "outputs": [],
   "source": []
  }
 ],
 "metadata": {
  "kernelspec": {
   "display_name": "Python 3 (ipykernel)",
   "language": "python",
   "name": "python3"
  },
  "language_info": {
   "codemirror_mode": {
    "name": "ipython",
    "version": 3
   },
   "file_extension": ".py",
   "mimetype": "text/x-python",
   "name": "python",
   "nbconvert_exporter": "python",
   "pygments_lexer": "ipython3",
   "version": "3.10.6"
  }
 },
 "nbformat": 4,
 "nbformat_minor": 5
}
