{
 "cells": [
  {
   "cell_type": "code",
   "execution_count": 37,
   "id": "d47d6a75",
   "metadata": {},
   "outputs": [],
   "source": [
    "#V1版本的不足之处;不够智能，还需要自己设定不同二维材料种类\n",
    "import numpy as np\n",
    "import pandas as pd\n",
    "import random\n",
    "import os\n",
    "from shutil import copy\n",
    "from math import cos, sin, atan2, sqrt, pi ,radians, degrees"
   ]
  },
  {
   "cell_type": "code",
   "execution_count": 38,
   "id": "59a2be6f",
   "metadata": {},
   "outputs": [],
   "source": [
    "# 获取需要BMAZ的BMAZ列表\n",
    "name = '20220822下选择的100个MAZ'\n",
    "BMAZ_data = pd.read_excel('../I_select_sample/' + name +'.xlsx', header=None)\n",
    "BMAZ_list = BMAZ_data.values.flatten().tolist()[1:]"
   ]
  },
  {
   "cell_type": "code",
   "execution_count": 40,
   "id": "0482dcb4",
   "metadata": {},
   "outputs": [
    {
     "data": {
      "text/plain": [
       "[]"
      ]
     },
     "execution_count": 40,
     "metadata": {},
     "output_type": "execute_result"
    }
   ],
   "source": [
    "#创建SMAZ的文件夹及放入MAZ的CONTCAR以及SMZA的三种POSCAR\n",
    "MAZ_structure_list = os.listdir('../../MAZ_structures')\n",
    "noexist_in_MAZ =[]\n",
    "for a in BMAZ_list:\n",
    "    os.makedirs(name+'/'+ a)\n",
    "    if 'CONTCAR_' + a not in MAZ_structure_list:\n",
    "        noexist_in_MAZ.append(a)\n",
    "    for i in MAZ_structure_list:       \n",
    "        if a == i.split('CONTCAR_')[-1]:\n",
    "            #复制MAZ的CONTCAR到各样本路径底下\n",
    "            from_path = '../../MAZ_structures/' + i\n",
    "            to_path = name + '/'+ a\n",
    "            copy(from_path, to_path)\n",
    "noexist_in_MAZ"
   ]
  },
  {
   "cell_type": "code",
   "execution_count": null,
   "id": "fdcf4d27",
   "metadata": {},
   "outputs": [],
   "source": []
  }
 ],
 "metadata": {
  "kernelspec": {
   "display_name": "Python 3 (ipykernel)",
   "language": "python",
   "name": "python3"
  },
  "language_info": {
   "codemirror_mode": {
    "name": "ipython",
    "version": 3
   },
   "file_extension": ".py",
   "mimetype": "text/x-python",
   "name": "python",
   "nbconvert_exporter": "python",
   "pygments_lexer": "ipython3",
   "version": "3.8.8"
  }
 },
 "nbformat": 4,
 "nbformat_minor": 5
}
